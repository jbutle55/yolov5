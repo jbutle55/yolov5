{
 "cells": [
  {
   "cell_type": "code",
   "execution_count": 2,
   "metadata": {
    "collapsed": true,
    "pycharm": {
     "name": "#%%\n"
    }
   },
   "outputs": [
    {
     "name": "stdout",
     "output_type": "stream",
     "text": [
      "usage: train.py [-h] [--weights WEIGHTS] [--cfg CFG] [--data DATA] [--hyp HYP]\r\n",
      "                [--epochs EPOCHS] [--batch-size BATCH_SIZE] [--imgsz IMGSZ]\r\n",
      "                [--rect] [--resume [RESUME]] [--nosave] [--noval]\r\n",
      "                [--noautoanchor] [--evolve [EVOLVE]] [--bucket BUCKET]\r\n",
      "                [--cache [CACHE]] [--image-weights] [--device DEVICE]\r\n",
      "                [--multi-scale] [--single-cls] [--optimizer {SGD,Adam,AdamW}]\r\n",
      "                [--sync-bn] [--workers WORKERS] [--project PROJECT]\r\n",
      "                [--name NAME] [--exist-ok] [--quad] [--linear-lr]\r\n",
      "                [--label-smoothing LABEL_SMOOTHING] [--patience PATIENCE]\r\n",
      "                [--freeze FREEZE [FREEZE ...]] [--save-period SAVE_PERIOD]\r\n",
      "                [--local_rank LOCAL_RANK] [--entity ENTITY]\r\n",
      "                [--upload_dataset [UPLOAD_DATASET]]\r\n",
      "                [--bbox_interval BBOX_INTERVAL]\r\n",
      "                [--artifact_alias ARTIFACT_ALIAS]\r\n",
      "\r\n",
      "optional arguments:\r\n",
      "  -h, --help            show this help message and exit\r\n",
      "  --weights WEIGHTS     initial weights path\r\n",
      "  --cfg CFG             model.yaml path\r\n",
      "  --data DATA           dataset.yaml path\r\n",
      "  --hyp HYP             hyperparameters path\r\n",
      "  --epochs EPOCHS\r\n",
      "  --batch-size BATCH_SIZE\r\n",
      "                        total batch size for all GPUs, -1 for autobatch\r\n",
      "  --imgsz IMGSZ, --img IMGSZ, --img-size IMGSZ\r\n",
      "                        train, val image size (pixels)\r\n",
      "  --rect                rectangular training\r\n",
      "  --resume [RESUME]     resume most recent training\r\n",
      "  --nosave              only save final checkpoint\r\n",
      "  --noval               only validate final epoch\r\n",
      "  --noautoanchor        disable AutoAnchor\r\n",
      "  --evolve [EVOLVE]     evolve hyperparameters for x generations\r\n",
      "  --bucket BUCKET       gsutil bucket\r\n",
      "  --cache [CACHE]       --cache images in \"ram\" (default) or \"disk\"\r\n",
      "  --image-weights       use weighted image selection for training\r\n",
      "  --device DEVICE       cuda device, i.e. 0 or 0,1,2,3 or cpu\r\n",
      "  --multi-scale         vary img-size +/- 50%\r\n",
      "  --single-cls          train multi-class data as single-class\r\n",
      "  --optimizer {SGD,Adam,AdamW}\r\n",
      "                        optimizer\r\n",
      "  --sync-bn             use SyncBatchNorm, only available in DDP mode\r\n",
      "  --workers WORKERS     max dataloader workers (per RANK in DDP mode)\r\n",
      "  --project PROJECT     save to project/name\r\n",
      "  --name NAME           save to project/name\r\n",
      "  --exist-ok            existing project/name ok, do not increment\r\n",
      "  --quad                quad dataloader\r\n",
      "  --linear-lr           linear LR\r\n",
      "  --label-smoothing LABEL_SMOOTHING\r\n",
      "                        Label smoothing epsilon\r\n",
      "  --patience PATIENCE   EarlyStopping patience (epochs without improvement)\r\n",
      "  --freeze FREEZE [FREEZE ...]\r\n",
      "                        Freeze layers: backbone=10, first3=0 1 2\r\n",
      "  --save-period SAVE_PERIOD\r\n",
      "                        Save checkpoint every x epochs (disabled if < 1)\r\n",
      "  --local_rank LOCAL_RANK\r\n",
      "                        DDP parameter, do not modify\r\n",
      "  --entity ENTITY       W&B: Entity\r\n",
      "  --upload_dataset [UPLOAD_DATASET]\r\n",
      "                        W&B: Upload data, \"val\" option\r\n",
      "  --bbox_interval BBOX_INTERVAL\r\n",
      "                        W&B: Set bounding-box image logging interval\r\n",
      "  --artifact_alias ARTIFACT_ALIAS\r\n",
      "                        W&B: Version of dataset artifact to use\r\n"
     ]
    }
   ],
   "source": [
    "from google.colab import drive, files\n",
    "import os\n",
    "drive.mount('/content/gdrive')"
   ]
  },
  {
   "cell_type": "code",
   "execution_count": null,
   "outputs": [],
   "source": [
    "!git clone --single-branch --branch keypoints https://github.com/jbutle55/yolov5\n",
    "os.chdir('yolov5')"
   ],
   "metadata": {
    "collapsed": false,
    "pycharm": {
     "name": "#%%\n"
    }
   }
  },
  {
   "cell_type": "code",
   "execution_count": null,
   "outputs": [],
   "source": [
    "!python train.py --weights \"\" --data data/uav_colab.yaml --cfg models/yolov5s_uav.yaml --project /content/gdrive/MyDrive/yolov5_weights --batch-size -1 --noval --name uav_small_t123 --patience 300 --save-period 25"
   ],
   "metadata": {
    "collapsed": false,
    "pycharm": {
     "name": "#%%\n"
    }
   }
  },
  {
   "cell_type": "code",
   "execution_count": null,
   "outputs": [],
   "source": [],
   "metadata": {
    "collapsed": false,
    "pycharm": {
     "name": "#%%\n"
    }
   }
  },
  {
   "cell_type": "code",
   "execution_count": null,
   "outputs": [],
   "source": [],
   "metadata": {
    "collapsed": false,
    "pycharm": {
     "name": "#%%\n"
    }
   }
  }
 ],
 "metadata": {
  "kernelspec": {
   "display_name": "Python 3",
   "language": "python",
   "name": "python3"
  },
  "language_info": {
   "codemirror_mode": {
    "name": "ipython",
    "version": 2
   },
   "file_extension": ".py",
   "mimetype": "text/x-python",
   "name": "python",
   "nbconvert_exporter": "python",
   "pygments_lexer": "ipython2",
   "version": "2.7.6"
  }
 },
 "nbformat": 4,
 "nbformat_minor": 0
}