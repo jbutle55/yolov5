{
 "cells": [
  {
   "cell_type": "code",
   "execution_count": null,
   "metadata": {
    "collapsed": true
   },
   "outputs": [],
   "source": [
    "from google.colab import drive, files\n",
    "import os\n",
    "drive.mount('/content/gdrive')"
   ]
  },
  {
   "cell_type": "code",
   "execution_count": null,
   "outputs": [],
   "source": [
    "!git clone --single-branch --branch keypoints https://github.com/jbutle55/yolov5\n",
    "os.chdir('yolov5')"
   ],
   "metadata": {
    "collapsed": false,
    "pycharm": {
     "name": "#%%\n"
    }
   }
  },
  {
   "cell_type": "code",
   "execution_count": null,
   "outputs": [],
   "source": [
    "!python detect.py --weights \"/content/gdrive/MyDrive/yolov5_weights/train/shapes_7500_large_300ep_v5l/weights/last.pt\" --data data/shapes_colab.yaml --source /content/gdrive/MyDrive/Shapes_Datasets/Shapes_1500_mod4/gauss_001/images/image_16.png --conf-thres 0.001 --iou-thres 0.6 --visualize --project /content/gdrive/MyDrive/yolov5_weights/detect --name shapes_7500_300ep_v5l_gauss_001 --exist-ok"
   ],
   "metadata": {
    "collapsed": false,
    "pycharm": {
     "name": "#%%\n"
    }
   }
  }
 ],
 "metadata": {
  "kernelspec": {
   "display_name": "Python 3",
   "language": "python",
   "name": "python3"
  },
  "language_info": {
   "codemirror_mode": {
    "name": "ipython",
    "version": 2
   },
   "file_extension": ".py",
   "mimetype": "text/x-python",
   "name": "python",
   "nbconvert_exporter": "python",
   "pygments_lexer": "ipython2",
   "version": "2.7.6"
  }
 },
 "nbformat": 4,
 "nbformat_minor": 0
}